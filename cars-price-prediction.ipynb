{
 "cells": [
  {
   "cell_type": "markdown",
   "id": "e34b5f1e",
   "metadata": {},
   "source": [
    "<center><h1> <font color=\"blue\">cars-price-prediction</font></h1></center>"
   ]
  },
  {
   "cell_type": "markdown",
   "id": "3440d2fb",
   "metadata": {},
   "source": [
    "### 1. Importation des bibliothèques"
   ]
  },
  {
   "cell_type": "code",
   "execution_count": 2,
   "id": "ef1b9dbc",
   "metadata": {},
   "outputs": [],
   "source": [
    "import numpy as np\n",
    "import pandas as pd\n",
    "import matplotlib.pyplot as plt\n",
    "import seaborn as sns\n",
    "from sklearn.model_selection import train_test_split\n",
    "from sklearn.linear_model import LogisticRegression\n",
    "from sklearn.metrics import confusion_matrix, accuracy_score, classification_report\n",
    "from sklearn.neighbors import KNeighborsClassifier"
   ]
  },
  {
   "cell_type": "markdown",
   "id": "2dee10c6",
   "metadata": {},
   "source": [
    "### 2. Lecture des données"
   ]
  },
  {
   "cell_type": "code",
   "execution_count": null,
   "id": "993e9d7c",
   "metadata": {},
   "outputs": [],
   "source": []
  }
 ],
 "metadata": {
  "kernelspec": {
   "display_name": "Python 3 (ipykernel)",
   "language": "python",
   "name": "python3"
  },
  "language_info": {
   "codemirror_mode": {
    "name": "ipython",
    "version": 3
   },
   "file_extension": ".py",
   "mimetype": "text/x-python",
   "name": "python",
   "nbconvert_exporter": "python",
   "pygments_lexer": "ipython3",
   "version": "3.10.7"
  }
 },
 "nbformat": 4,
 "nbformat_minor": 5
}
